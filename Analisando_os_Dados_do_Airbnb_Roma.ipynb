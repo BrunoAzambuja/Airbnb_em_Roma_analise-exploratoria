{
  "nbformat": 4,
  "nbformat_minor": 0,
  "metadata": {
    "colab": {
      "provenance": [],
      "collapsed_sections": [],
      "include_colab_link": true
    },
    "kernelspec": {
      "name": "python3",
      "display_name": "Python 3"
    }
  },
  "cells": [
    {
      "cell_type": "markdown",
      "metadata": {
        "id": "view-in-github",
        "colab_type": "text"
      },
      "source": [
        "<a href=\"https://colab.research.google.com/github/BrunoAzambuja/Analise-dos-dados-do-Airbnb-Roma/blob/main/Analisando_os_Dados_do_Airbnb_Roma.ipynb\" target=\"_parent\"><img src=\"https://colab.research.google.com/assets/colab-badge.svg\" alt=\"Open In Colab\"/></a>"
      ]
    },
    {
      "cell_type": "markdown",
      "metadata": {
        "id": "kLI0gJtzDGuQ"
      },
      "source": [
        "<img alt=\"Colaboratory logo\" width=\"15%\" src=\"https://raw.githubusercontent.com/carlosfab/escola-data-science/master/img/novo_logo_bg_claro.png\">\n",
        "\n",
        "#### **Data Science na Prática 3.0**\n",
        "*by [sigmoidal.ai](https://sigmoidal.ai)*\n",
        "\n",
        "---\n",
        "\n"
      ]
    },
    {
      "cell_type": "markdown",
      "metadata": {
        "id": "lSkIUEy3SWOy"
      },
      "source": [
        "## Análise dos dados do Airbnb: Roma\n",
        "\n"
      ]
    },
    {
      "cell_type": "markdown",
      "source": [
        "<center><img alt=\"Analisando Airbnb\" width=\"10%\" src=\"https://www.area360.com.au/wp-content/uploads/2017/09/airbnb-logo.jpg\"></center>\n",
        "\n",
        "O [Airbnb](https://www.airbnb.com.br/) já é considerado como sendo a **maior empresa hoteleira da atualidade**. Ah, o detalhe é que ele **não possui nenhum hotel**!\n",
        "\n",
        "Conectando pessoas que querem viajar (e se hospedar) com anfitriões que querem alugar seus imóveis de maneira prática, o Airbnb fornece uma plataforma inovadora para tornar essa hospedagem alternativa.\n",
        "\n",
        "No final de 2019, a Startup fundada 10 anos atrás, já havia **hospedado mais de 500 milhões** de pessoas ao redor de todo o mundo, desafiando as redes hoteleiras tradicionais.\n",
        "\n",
        "Uma das iniciativas do Airbnb é disponibilizar dados do site, para algumas das principais cidades do mundo. Por meio do portal [Inside Airbnb](http://insideairbnb.com/get-the-data.html), é possível baixar uma grande quantidade de dados para desenvolver projetos e soluções de *Data Science*."
      ],
      "metadata": {
        "id": "quFWretiTHLX"
      }
    },
    {
      "cell_type": "markdown",
      "metadata": {
        "id": "axogoU63UsNf"
      },
      "source": [
        "## Roma, capital da Itália\n"
      ]
    },
    {
      "cell_type": "markdown",
      "source": [
        "\n",
        "<center><img alt=\"Analisando Airbnb\" width=\"80%\" src=\"https://astelus.com/wp-content/viajes/Que-ver-en-Roma-1152x759.jpg\"></center>\n",
        "\n",
        "Roma é geralmente considerada o \"berço da cultura e da civilização ocidental\", a história de Roma abrange 28 séculos. Apesar da mitologia romana data a fundação de Roma por volta de 753 a.C., o local é habitado há muito mais tempo, tornando-se um importante assentamento humano por quase três milênios e uma das mais antigas cidades continuamente ocupadas da Europa.\n",
        "\n",
        "A população inicial da cidade originou-se de uma mistura de latinos, etruscos e sabinos. Eventualmente, a cidade tornou-se sucessivamente a capital do Reino Romano, da República Romana e do Império Romano, sendo considerada por muitos como a primeira cidade e metrópole imperial.\n",
        "\n",
        "Em 2019, Roma foi a 11ª cidade mais visitada do mundo, com 10,1 milhões de turistas, a terceira mais visitada na União Europeia e o destino turístico mais popular da Itália. O seu centro histórico está classificado pela UNESCO como um Patrimônio Mundial.\n",
        "\n",
        "Cidade-sede dos Jogos Olímpicos de Verão de 1960, Roma é também a sede de várias agências especializadas das Nações Unidas, como a Organização das Nações Unidas para a Alimentação e a Agricultura (FAO), o Programa Alimentar Mundial (PAM) e o Fundo Internacional de Desenvolvimento Agrícola (FIDA), além da presença de renomadas marcas internacionais na cidade, que fez de Roma um importante centro de moda e design, e os estúdios Cinecittà foram cenário de muitos filmes vencedores do Oscar.\n",
        "\n",
        "Fonte: [wikipedia](https://pt.wikipedia.org/wiki/Roma)"
      ],
      "metadata": {
        "id": "2jcqeK-lU0Z9"
      }
    },
    {
      "cell_type": "markdown",
      "metadata": {
        "id": "FiQMZP77Thwk"
      },
      "source": [
        "## Premissas básicas do projeto\n"
      ]
    },
    {
      "cell_type": "markdown",
      "source": [
        " \n",
        "\n",
        "*   Neste *notebook*, iremos analisar os dados referentes à cidade de Roma, e ver quais insights podem ser extraídos a partir de dados brutos.\n",
        "\n"
      ],
      "metadata": {
        "id": "_qu69ikwTqxI"
      }
    },
    {
      "cell_type": "markdown",
      "metadata": {
        "id": "0zxQHhIUDF_2"
      },
      "source": [
        "## Obtenção dos Dados\n"
      ]
    },
    {
      "cell_type": "markdown",
      "source": [
        "Todos os dados utilizados aqui foram obtidos a partir do portal [Inside Airbnb](http://insideairbnb.com/get-the-data).\n",
        "\n",
        "Para esta análise exploratória inicial, será baixado apenas o seguinte arquivo :\n",
        "\n",
        "'listings.csv' - Summary information and metrics for listings in Athens (good for visualisations)."
      ],
      "metadata": {
        "id": "-42jLvuFXjO2"
      }
    },
    {
      "cell_type": "code",
      "metadata": {
        "id": "Vhp2wMPgJ6zX"
      },
      "source": [
        "# importar os pacotes necessarios\n",
        "import pandas as pd\n",
        "import matplotlib.pyplot as plt\n",
        "import seaborn as sns\n",
        "\n",
        "%matplotlib inline"
      ],
      "execution_count": 1,
      "outputs": []
    },
    {
      "cell_type": "code",
      "metadata": {
        "id": "tUmoAT8DLQ5T"
      },
      "source": [
        "# importar o arquivo listings.csv para um DataFrame\n",
        "df = pd.read_csv(\"http://data.insideairbnb.com/italy/lazio/rome/2022-06-07/visualisations/listings.csv\")"
      ],
      "execution_count": 6,
      "outputs": []
    },
    {
      "cell_type": "markdown",
      "metadata": {
        "id": "qb5By2nIMS6m"
      },
      "source": [
        "## Análise dos Dados\n",
        "Esta etapa tem por objetivo criar uma consciência inicial e permitir um entendimento de como os dados estão estruturados"
      ]
    },
    {
      "cell_type": "markdown",
      "metadata": {
        "id": "RYgvuebKNg8-"
      },
      "source": [
        "**Dicionário das variáveis**\n",
        "\n",
        "* `id` - número de id gerado para identificar o imóvel\n",
        "* `name` - nome da propriedade anunciada\n",
        "* `host_id` - número de id do proprietário (anfitrião) da propriedade\n",
        "* `host_name` - Nome do anfitrião\n",
        "* `neighbourhood_group` - esta coluna não contém nenhum valor válido\n",
        "* `neighbourhood` - nome do bairro\n",
        "* `latitude` - coordenada da latitude da propriedade\n",
        "* `longitude` - coordenada da longitude da propriedade\n",
        "* `room_type` - informa o tipo de quarto que é oferecido\n",
        "* `price` - preço para alugar o imóvel\n",
        "* `minimum_nights` - quantidade mínima de noites para reservar\n",
        "* `number_of_reviews` - número de reviews que a propriedade possui\n",
        "* `last_review` - data do último review\n",
        "* `reviews_per_month` - quantidade de reviews por mês\n",
        "* `calculated_host_listings_count` - quantidade de imóveis do mesmo anfitrião\n",
        "* `availability_365` - número de dias de disponibilidade dentro de 365 dias\n",
        "\n",
        "Antes de iniciar qualquer análise, vamos verificar a cara do nosso *dataset*, analisando as 5 primeiras entradas."
      ]
    },
    {
      "cell_type": "code",
      "metadata": {
        "id": "2iS_dae7YQtO",
        "colab": {
          "base_uri": "https://localhost:8080/",
          "height": 531
        },
        "outputId": "a0dff9b8-fc6e-42a2-e18b-412e2c3c0e87"
      },
      "source": [
        "# mostrar as 5 primeiras entradas\n",
        "df.head()"
      ],
      "execution_count": 9,
      "outputs": [
        {
          "output_type": "execute_result",
          "data": {
            "text/plain": [
              "         id                                               name    host_id  \\\n",
              "0  49955080                      Singola al Casale di Gardenia  396326393   \n",
              "1  41146116                                Il Giardino di Veio  322089651   \n",
              "2  39624404  CAMERA MATRIMONIALE STANDARD CON COLAZIONE INC...  304471512   \n",
              "3   1903817  Lovely apartment with fabulous view north of Rome    9883614   \n",
              "4  17617868   SUPER OFFERTA-stanza Maria-doppia o matrimoniale   97622372   \n",
              "\n",
              "  host_name  neighbourhood_group        neighbourhood  latitude  longitude  \\\n",
              "0   Alessia                  NaN   XV Cassia/Flaminia  42.07605   12.32067   \n",
              "1   Rosetta                  NaN   XV Cassia/Flaminia  42.05088   12.45619   \n",
              "2     Hotel                  NaN  VI Roma delle Torri  41.82882   12.73900   \n",
              "3       Eva                  NaN   XV Cassia/Flaminia  42.13578   12.32621   \n",
              "4  Eleonora                  NaN   XV Cassia/Flaminia  42.06512   12.46106   \n",
              "\n",
              "         room_type  price  minimum_nights  number_of_reviews last_review  \\\n",
              "0     Private room     66               1                  0         NaN   \n",
              "1     Private room     20               2                  1  2020-01-26   \n",
              "2     Private room    100               1                  0         NaN   \n",
              "3  Entire home/apt    110               3                 53  2022-05-25   \n",
              "4     Private room     25               1                 12  2022-05-17   \n",
              "\n",
              "   reviews_per_month  calculated_host_listings_count  availability_365  \\\n",
              "0                NaN                               3                88   \n",
              "1               0.03                               1                 0   \n",
              "2                NaN                               1               180   \n",
              "3               0.63                               4               289   \n",
              "4               0.19                               3               315   \n",
              "\n",
              "   number_of_reviews_ltm license  \n",
              "0                      0     NaN  \n",
              "1                      0     NaN  \n",
              "2                      0     NaN  \n",
              "3                      3     NaN  \n",
              "4                      3   16903  "
            ],
            "text/html": [
              "\n",
              "  <div id=\"df-ddc55b34-fbf9-4efd-a2aa-06159d7f7080\">\n",
              "    <div class=\"colab-df-container\">\n",
              "      <div>\n",
              "<style scoped>\n",
              "    .dataframe tbody tr th:only-of-type {\n",
              "        vertical-align: middle;\n",
              "    }\n",
              "\n",
              "    .dataframe tbody tr th {\n",
              "        vertical-align: top;\n",
              "    }\n",
              "\n",
              "    .dataframe thead th {\n",
              "        text-align: right;\n",
              "    }\n",
              "</style>\n",
              "<table border=\"1\" class=\"dataframe\">\n",
              "  <thead>\n",
              "    <tr style=\"text-align: right;\">\n",
              "      <th></th>\n",
              "      <th>id</th>\n",
              "      <th>name</th>\n",
              "      <th>host_id</th>\n",
              "      <th>host_name</th>\n",
              "      <th>neighbourhood_group</th>\n",
              "      <th>neighbourhood</th>\n",
              "      <th>latitude</th>\n",
              "      <th>longitude</th>\n",
              "      <th>room_type</th>\n",
              "      <th>price</th>\n",
              "      <th>minimum_nights</th>\n",
              "      <th>number_of_reviews</th>\n",
              "      <th>last_review</th>\n",
              "      <th>reviews_per_month</th>\n",
              "      <th>calculated_host_listings_count</th>\n",
              "      <th>availability_365</th>\n",
              "      <th>number_of_reviews_ltm</th>\n",
              "      <th>license</th>\n",
              "    </tr>\n",
              "  </thead>\n",
              "  <tbody>\n",
              "    <tr>\n",
              "      <th>0</th>\n",
              "      <td>49955080</td>\n",
              "      <td>Singola al Casale di Gardenia</td>\n",
              "      <td>396326393</td>\n",
              "      <td>Alessia</td>\n",
              "      <td>NaN</td>\n",
              "      <td>XV Cassia/Flaminia</td>\n",
              "      <td>42.07605</td>\n",
              "      <td>12.32067</td>\n",
              "      <td>Private room</td>\n",
              "      <td>66</td>\n",
              "      <td>1</td>\n",
              "      <td>0</td>\n",
              "      <td>NaN</td>\n",
              "      <td>NaN</td>\n",
              "      <td>3</td>\n",
              "      <td>88</td>\n",
              "      <td>0</td>\n",
              "      <td>NaN</td>\n",
              "    </tr>\n",
              "    <tr>\n",
              "      <th>1</th>\n",
              "      <td>41146116</td>\n",
              "      <td>Il Giardino di Veio</td>\n",
              "      <td>322089651</td>\n",
              "      <td>Rosetta</td>\n",
              "      <td>NaN</td>\n",
              "      <td>XV Cassia/Flaminia</td>\n",
              "      <td>42.05088</td>\n",
              "      <td>12.45619</td>\n",
              "      <td>Private room</td>\n",
              "      <td>20</td>\n",
              "      <td>2</td>\n",
              "      <td>1</td>\n",
              "      <td>2020-01-26</td>\n",
              "      <td>0.03</td>\n",
              "      <td>1</td>\n",
              "      <td>0</td>\n",
              "      <td>0</td>\n",
              "      <td>NaN</td>\n",
              "    </tr>\n",
              "    <tr>\n",
              "      <th>2</th>\n",
              "      <td>39624404</td>\n",
              "      <td>CAMERA MATRIMONIALE STANDARD CON COLAZIONE INC...</td>\n",
              "      <td>304471512</td>\n",
              "      <td>Hotel</td>\n",
              "      <td>NaN</td>\n",
              "      <td>VI Roma delle Torri</td>\n",
              "      <td>41.82882</td>\n",
              "      <td>12.73900</td>\n",
              "      <td>Private room</td>\n",
              "      <td>100</td>\n",
              "      <td>1</td>\n",
              "      <td>0</td>\n",
              "      <td>NaN</td>\n",
              "      <td>NaN</td>\n",
              "      <td>1</td>\n",
              "      <td>180</td>\n",
              "      <td>0</td>\n",
              "      <td>NaN</td>\n",
              "    </tr>\n",
              "    <tr>\n",
              "      <th>3</th>\n",
              "      <td>1903817</td>\n",
              "      <td>Lovely apartment with fabulous view north of Rome</td>\n",
              "      <td>9883614</td>\n",
              "      <td>Eva</td>\n",
              "      <td>NaN</td>\n",
              "      <td>XV Cassia/Flaminia</td>\n",
              "      <td>42.13578</td>\n",
              "      <td>12.32621</td>\n",
              "      <td>Entire home/apt</td>\n",
              "      <td>110</td>\n",
              "      <td>3</td>\n",
              "      <td>53</td>\n",
              "      <td>2022-05-25</td>\n",
              "      <td>0.63</td>\n",
              "      <td>4</td>\n",
              "      <td>289</td>\n",
              "      <td>3</td>\n",
              "      <td>NaN</td>\n",
              "    </tr>\n",
              "    <tr>\n",
              "      <th>4</th>\n",
              "      <td>17617868</td>\n",
              "      <td>SUPER OFFERTA-stanza Maria-doppia o matrimoniale</td>\n",
              "      <td>97622372</td>\n",
              "      <td>Eleonora</td>\n",
              "      <td>NaN</td>\n",
              "      <td>XV Cassia/Flaminia</td>\n",
              "      <td>42.06512</td>\n",
              "      <td>12.46106</td>\n",
              "      <td>Private room</td>\n",
              "      <td>25</td>\n",
              "      <td>1</td>\n",
              "      <td>12</td>\n",
              "      <td>2022-05-17</td>\n",
              "      <td>0.19</td>\n",
              "      <td>3</td>\n",
              "      <td>315</td>\n",
              "      <td>3</td>\n",
              "      <td>16903</td>\n",
              "    </tr>\n",
              "  </tbody>\n",
              "</table>\n",
              "</div>\n",
              "      <button class=\"colab-df-convert\" onclick=\"convertToInteractive('df-ddc55b34-fbf9-4efd-a2aa-06159d7f7080')\"\n",
              "              title=\"Convert this dataframe to an interactive table.\"\n",
              "              style=\"display:none;\">\n",
              "        \n",
              "  <svg xmlns=\"http://www.w3.org/2000/svg\" height=\"24px\"viewBox=\"0 0 24 24\"\n",
              "       width=\"24px\">\n",
              "    <path d=\"M0 0h24v24H0V0z\" fill=\"none\"/>\n",
              "    <path d=\"M18.56 5.44l.94 2.06.94-2.06 2.06-.94-2.06-.94-.94-2.06-.94 2.06-2.06.94zm-11 1L8.5 8.5l.94-2.06 2.06-.94-2.06-.94L8.5 2.5l-.94 2.06-2.06.94zm10 10l.94 2.06.94-2.06 2.06-.94-2.06-.94-.94-2.06-.94 2.06-2.06.94z\"/><path d=\"M17.41 7.96l-1.37-1.37c-.4-.4-.92-.59-1.43-.59-.52 0-1.04.2-1.43.59L10.3 9.45l-7.72 7.72c-.78.78-.78 2.05 0 2.83L4 21.41c.39.39.9.59 1.41.59.51 0 1.02-.2 1.41-.59l7.78-7.78 2.81-2.81c.8-.78.8-2.07 0-2.86zM5.41 20L4 18.59l7.72-7.72 1.47 1.35L5.41 20z\"/>\n",
              "  </svg>\n",
              "      </button>\n",
              "      \n",
              "  <style>\n",
              "    .colab-df-container {\n",
              "      display:flex;\n",
              "      flex-wrap:wrap;\n",
              "      gap: 12px;\n",
              "    }\n",
              "\n",
              "    .colab-df-convert {\n",
              "      background-color: #E8F0FE;\n",
              "      border: none;\n",
              "      border-radius: 50%;\n",
              "      cursor: pointer;\n",
              "      display: none;\n",
              "      fill: #1967D2;\n",
              "      height: 32px;\n",
              "      padding: 0 0 0 0;\n",
              "      width: 32px;\n",
              "    }\n",
              "\n",
              "    .colab-df-convert:hover {\n",
              "      background-color: #E2EBFA;\n",
              "      box-shadow: 0px 1px 2px rgba(60, 64, 67, 0.3), 0px 1px 3px 1px rgba(60, 64, 67, 0.15);\n",
              "      fill: #174EA6;\n",
              "    }\n",
              "\n",
              "    [theme=dark] .colab-df-convert {\n",
              "      background-color: #3B4455;\n",
              "      fill: #D2E3FC;\n",
              "    }\n",
              "\n",
              "    [theme=dark] .colab-df-convert:hover {\n",
              "      background-color: #434B5C;\n",
              "      box-shadow: 0px 1px 3px 1px rgba(0, 0, 0, 0.15);\n",
              "      filter: drop-shadow(0px 1px 2px rgba(0, 0, 0, 0.3));\n",
              "      fill: #FFFFFF;\n",
              "    }\n",
              "  </style>\n",
              "\n",
              "      <script>\n",
              "        const buttonEl =\n",
              "          document.querySelector('#df-ddc55b34-fbf9-4efd-a2aa-06159d7f7080 button.colab-df-convert');\n",
              "        buttonEl.style.display =\n",
              "          google.colab.kernel.accessAllowed ? 'block' : 'none';\n",
              "\n",
              "        async function convertToInteractive(key) {\n",
              "          const element = document.querySelector('#df-ddc55b34-fbf9-4efd-a2aa-06159d7f7080');\n",
              "          const dataTable =\n",
              "            await google.colab.kernel.invokeFunction('convertToInteractive',\n",
              "                                                     [key], {});\n",
              "          if (!dataTable) return;\n",
              "\n",
              "          const docLinkHtml = 'Like what you see? Visit the ' +\n",
              "            '<a target=\"_blank\" href=https://colab.research.google.com/notebooks/data_table.ipynb>data table notebook</a>'\n",
              "            + ' to learn more about interactive tables.';\n",
              "          element.innerHTML = '';\n",
              "          dataTable['output_type'] = 'display_data';\n",
              "          await google.colab.output.renderOutput(dataTable, element);\n",
              "          const docLink = document.createElement('div');\n",
              "          docLink.innerHTML = docLinkHtml;\n",
              "          element.appendChild(docLink);\n",
              "        }\n",
              "      </script>\n",
              "    </div>\n",
              "  </div>\n",
              "  "
            ]
          },
          "metadata": {},
          "execution_count": 9
        }
      ]
    },
    {
      "cell_type": "markdown",
      "metadata": {
        "id": "6-B_qtEaYEd-"
      },
      "source": [
        "### **Q1. Quantos atributos (variáveis) e quantas entradas o nosso conjunto de dados possui? Quais os tipos das variáveis?**"
      ]
    },
    {
      "cell_type": "code",
      "metadata": {
        "id": "TFRK0tniLV-G"
      },
      "source": [
        "# identificar o volume de dados do DataFrame\n",
        "\n",
        "# verificar as 5 primeiras entradas do dataset\n"
      ],
      "execution_count": null,
      "outputs": []
    },
    {
      "cell_type": "markdown",
      "metadata": {
        "id": "yz1urSUGW9iE"
      },
      "source": [
        "### **Q2. Qual a porcentagem de valores ausentes no *dataset*?**"
      ]
    },
    {
      "cell_type": "code",
      "metadata": {
        "id": "plk2FjbCXOqP"
      },
      "source": [
        "# ordenar em ordem decrescente as variáveis por seus valores ausentes\n"
      ],
      "execution_count": null,
      "outputs": []
    },
    {
      "cell_type": "markdown",
      "metadata": {
        "id": "iHXvvHIxaoNc"
      },
      "source": [
        "### **Q3. Qual o tipo de distribuição das variáveis?** "
      ]
    },
    {
      "cell_type": "code",
      "metadata": {
        "id": "q2wWSfeRbmBo"
      },
      "source": [
        "# plotar o histograma das variáveis numéricas\n"
      ],
      "execution_count": null,
      "outputs": []
    },
    {
      "cell_type": "markdown",
      "metadata": {
        "id": "7x4aw1j5wNmn"
      },
      "source": [
        "### **Q4. Qual a média dos preços de aluguel?**"
      ]
    },
    {
      "cell_type": "code",
      "metadata": {
        "id": "ff-8gUahLk-C"
      },
      "source": [
        "# ver a média da coluna `price``\n"
      ],
      "execution_count": null,
      "outputs": []
    },
    {
      "cell_type": "markdown",
      "metadata": {
        "id": "IXn2oIo5qx-w"
      },
      "source": [
        "### **Q4. Qual a correlação existente entre as variáveis**"
      ]
    },
    {
      "cell_type": "code",
      "metadata": {
        "id": "x2ayzBajqxyd"
      },
      "source": [
        "# criar uma matriz de correlação\n",
        "\n",
        "# mostrar a matriz de correlação\n"
      ],
      "execution_count": null,
      "outputs": []
    },
    {
      "cell_type": "code",
      "metadata": {
        "id": "91UujDr6ueqE"
      },
      "source": [
        "# plotar um heatmap a partir das correlações\n"
      ],
      "execution_count": null,
      "outputs": []
    },
    {
      "cell_type": "markdown",
      "metadata": {
        "id": "7b6RMWpuHKN-"
      },
      "source": [
        "### **Q5. Qual o tipo de imóvel mais alugado no Airbnb?**"
      ]
    },
    {
      "cell_type": "code",
      "metadata": {
        "id": "ueLPNWvPHgfB"
      },
      "source": [
        "# mostrar a quantidade de cada tipo de imóvel disponível\n"
      ],
      "execution_count": null,
      "outputs": []
    },
    {
      "cell_type": "code",
      "metadata": {
        "id": "EvwoO-XAHhIm"
      },
      "source": [
        "# mostrar a porcentagem de cada tipo de imóvel disponível\n"
      ],
      "execution_count": null,
      "outputs": []
    },
    {
      "cell_type": "markdown",
      "metadata": {
        "id": "MFa5NbnLJMcd"
      },
      "source": [
        "### **Q6. Qual a localidade mais cara do dataset?**\n",
        "\n"
      ]
    },
    {
      "cell_type": "code",
      "metadata": {
        "id": "MD_xa143JZpi"
      },
      "source": [
        "# ver preços por bairros, na média\n"
      ],
      "execution_count": null,
      "outputs": []
    },
    {
      "cell_type": "code",
      "metadata": {
        "id": "UxVJqJ_3W59I"
      },
      "source": [
        "# plotar os imóveis pela latitude-longitude\n"
      ],
      "execution_count": null,
      "outputs": []
    },
    {
      "cell_type": "markdown",
      "metadata": {
        "id": "vTneAMRUYvr1"
      },
      "source": [
        "### **Q7. Qual é a média do mínimo de noites para aluguel (minimum_nights)?**"
      ]
    },
    {
      "cell_type": "code",
      "metadata": {
        "id": "_VzNhrEgY82N"
      },
      "source": [
        "# ver a média da coluna `minimum_nights``"
      ],
      "execution_count": null,
      "outputs": []
    },
    {
      "cell_type": "markdown",
      "metadata": {
        "id": "GkvAg623RjoR"
      },
      "source": [
        "## Conclusões\n"
      ]
    },
    {
      "cell_type": "markdown",
      "metadata": {
        "id": "rbZ3Hsy9Ypw8"
      },
      "source": []
    }
  ]
}